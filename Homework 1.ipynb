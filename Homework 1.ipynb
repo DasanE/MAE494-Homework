{
 "cells": [
  {
   "cell_type": "code",
   "execution_count": 1,
   "id": "1ac943d6",
   "metadata": {},
   "outputs": [
    {
     "name": "stdout",
     "output_type": "stream",
     "text": [
      "     fun: 4.093023286611825\n",
      "     jac: array([-2.0462895 , -0.18618321, -2.23247278, -2.23281008, -1.48842764])\n",
      " message: 'Optimization terminated successfully'\n",
      "    nfev: 43\n",
      "     nit: 7\n",
      "    njev: 7\n",
      "  status: 0\n",
      " success: True\n",
      "       x: array([-0.76735857,  0.25578619,  0.62797743, -0.11640505,  0.25578619])\n"
     ]
    }
   ],
   "source": [
    "from scipy.optimize import minimize\n",
    "\n",
    "fun = lambda x: (x[0]-x[1])**2 + (x[1]+x[2]-2)**2 + (x[3]-1)**2 + (x[4]-1)**2\n",
    "const = ({'type': 'eq', 'fun': lambda x: x[0]+3*x[1]},\n",
    "         {'type': 'eq', 'fun': lambda x: x[2]+x[3]-2*x[4]},\n",
    "         {'type': 'eq', 'fun': lambda x: x[1]-x[4]})\n",
    "bounds = ((-10,10),(-10,10),(-10,10),(-10,10),(-10,10))\n",
    "res = minimize(fun, (-9,3,5,-7,9), method = 'SLSQP', bounds = bounds, constraints = const)\n",
    "\n",
    "print(res)"
   ]
  },
  {
   "cell_type": "code",
   "execution_count": 2,
   "id": "f75cf1a6",
   "metadata": {},
   "outputs": [
    {
     "name": "stdout",
     "output_type": "stream",
     "text": [
      "     fun: 4.0930232616301065\n",
      "     jac: array([-2.04648948, -0.18597054, -2.23246008, -2.23267275, -1.48837763])\n",
      " message: 'Optimization terminated successfully'\n",
      "    nfev: 37\n",
      "     nit: 6\n",
      "    njev: 6\n",
      "  status: 0\n",
      " success: True\n",
      "       x: array([-0.76743357,  0.25581119,  0.62795875, -0.11633638,  0.25581119])\n"
     ]
    }
   ],
   "source": [
    "from scipy.optimize import minimize\n",
    "\n",
    "fun = lambda x: (x[0]-x[1])**2 + (x[1]+x[2]-2)**2 + (x[3]-1)**2 + (x[4]-1)**2\n",
    "const = ({'type': 'eq', 'fun': lambda x: x[0]+3*x[1]},\n",
    "         {'type': 'eq', 'fun': lambda x: x[2]+x[3]-2*x[4]},\n",
    "         {'type': 'eq', 'fun': lambda x: x[1]-x[4]})\n",
    "bounds = ((-10,10),(-10,10),(-10,10),(-10,10),(-10,10))\n",
    "res = minimize(fun, (-2,6,9,-7,1), method = 'SLSQP', bounds = bounds, constraints = const)\n",
    "\n",
    "print(res)"
   ]
  },
  {
   "cell_type": "code",
   "execution_count": 3,
   "id": "b5e46a4d",
   "metadata": {},
   "outputs": [
    {
     "name": "stdout",
     "output_type": "stream",
     "text": [
      "     fun: 4.093023255813954\n",
      "     jac: array([-2.04651159, -0.18604648, -2.23255813, -2.23255813, -1.48837209])\n",
      " message: 'Optimization terminated successfully'\n",
      "    nfev: 37\n",
      "     nit: 6\n",
      "    njev: 6\n",
      "  status: 0\n",
      " success: True\n",
      "       x: array([-0.76744186,  0.25581395,  0.62790697, -0.11627907,  0.25581395])\n"
     ]
    }
   ],
   "source": [
    "from scipy.optimize import minimize\n",
    "\n",
    "fun = lambda x: (x[0]-x[1])**2 + (x[1]+x[2]-2)**2 + (x[3]-1)**2 + (x[4]-1)**2\n",
    "const = ({'type': 'eq', 'fun': lambda x: x[0]+3*x[1]},\n",
    "         {'type': 'eq', 'fun': lambda x: x[2]+x[3]-2*x[4]},\n",
    "         {'type': 'eq', 'fun': lambda x: x[1]-x[4]})\n",
    "bounds = ((-10,10),(-10,10),(-10,10),(-10,10),(-10,10))\n",
    "res = minimize(fun, (9,-6,-9,4,2), method = 'SLSQP', bounds = bounds, constraints = const)\n",
    "\n",
    "print(res)"
   ]
  },
  {
   "cell_type": "code",
   "execution_count": null,
   "id": "f0d579d6",
   "metadata": {},
   "outputs": [],
   "source": []
  }
 ],
 "metadata": {
  "kernelspec": {
   "display_name": "Python 3",
   "language": "python",
   "name": "python3"
  },
  "language_info": {
   "codemirror_mode": {
    "name": "ipython",
    "version": 3
   },
   "file_extension": ".py",
   "mimetype": "text/x-python",
   "name": "python",
   "nbconvert_exporter": "python",
   "pygments_lexer": "ipython3",
   "version": "3.8.8"
  }
 },
 "nbformat": 4,
 "nbformat_minor": 5
}
