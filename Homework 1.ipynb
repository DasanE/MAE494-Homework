{
 "cells": [
  {
   "cell_type": "code",
   "execution_count": 2,
   "id": "efbf8540",
   "metadata": {},
   "outputs": [
    {
     "name": "stdout",
     "output_type": "stream",
     "text": [
      "     fun: 4.093023256421694\n",
      "     jac: array([-2.04652327, -0.18606395, -2.23258728, -2.23252022, -1.48836917])\n",
      " message: 'Optimization terminated successfully'\n",
      "    nfev: 48\n",
      "     nit: 8\n",
      "    njev: 8\n",
      "  status: 0\n",
      " success: True\n",
      "       x: array([-0.76744624,  0.25581541,  0.62789095, -0.11626012,  0.25581541])\n"
     ]
    }
   ],
   "source": [
    "from scipy.optimize import minimize\n",
    "\n",
    "fun = lambda x: (x[0]-x[1])**2 + (x[1]+x[2]-2)**2 + (x[3]-1)**2 + (x[4]-1)**2\n",
    "const = ({'type': 'eq', 'fun': lambda x: x[0]+3*x[1]},\n",
    "         {'type': 'eq', 'fun': lambda x: x[2]+x[3]-2*x[4]},\n",
    "         {'type': 'eq', 'fun': lambda x: x[1]-x[4]})\n",
    "bounds = ((-10,10),(-10,10),(-10,10),(-10,10),(-10,10))\n",
    "res = minimize(fun, (-1,2,-3,-4,5), method = 'SLSQP', bounds = bounds, constraints = const)\n",
    "\n",
    "print(res)"
   ]
  },
  {
   "cell_type": "code",
   "execution_count": 2,
   "id": "f75cf1a6",
   "metadata": {},
   "outputs": [
    {
     "name": "stdout",
     "output_type": "stream",
     "text": [
      "     fun: 4.0930232616301065\n",
      "     jac: array([-2.04648948, -0.18597054, -2.23246008, -2.23267275, -1.48837763])\n",
      " message: 'Optimization terminated successfully'\n",
      "    nfev: 37\n",
      "     nit: 6\n",
      "    njev: 6\n",
      "  status: 0\n",
      " success: True\n",
      "       x: array([-0.76743357,  0.25581119,  0.62795875, -0.11633638,  0.25581119])\n"
     ]
    }
   ],
   "source": [
    "from scipy.optimize import minimize\n",
    "\n",
    "fun = lambda x: (x[0]-x[1])**2 + (x[1]+x[2]-2)**2 + (x[3]-1)**2 + (x[4]-1)**2\n",
    "const = ({'type': 'eq', 'fun': lambda x: x[0]+3*x[1]},\n",
    "         {'type': 'eq', 'fun': lambda x: x[2]+x[3]-2*x[4]},\n",
    "         {'type': 'eq', 'fun': lambda x: x[1]-x[4]})\n",
    "bounds = ((-10,10),(-10,10),(-10,10),(-10,10),(-10,10))\n",
    "res = minimize(fun, (-2,6,9,-7,1), method = 'SLSQP', bounds = bounds, constraints = const)\n",
    "\n",
    "print(res)"
   ]
  },
  {
   "cell_type": "code",
   "execution_count": 3,
   "id": "b5e46a4d",
   "metadata": {},
   "outputs": [
    {
     "name": "stdout",
     "output_type": "stream",
     "text": [
      "     fun: 4.093023255813954\n",
      "     jac: array([-2.04651159, -0.18604648, -2.23255813, -2.23255813, -1.48837209])\n",
      " message: 'Optimization terminated successfully'\n",
      "    nfev: 37\n",
      "     nit: 6\n",
      "    njev: 6\n",
      "  status: 0\n",
      " success: True\n",
      "       x: array([-0.76744186,  0.25581395,  0.62790697, -0.11627907,  0.25581395])\n"
     ]
    }
   ],
   "source": [
    "from scipy.optimize import minimize\n",
    "\n",
    "fun = lambda x: (x[0]-x[1])**2 + (x[1]+x[2]-2)**2 + (x[3]-1)**2 + (x[4]-1)**2\n",
    "const = ({'type': 'eq', 'fun': lambda x: x[0]+3*x[1]},\n",
    "         {'type': 'eq', 'fun': lambda x: x[2]+x[3]-2*x[4]},\n",
    "         {'type': 'eq', 'fun': lambda x: x[1]-x[4]})\n",
    "bounds = ((-10,10),(-10,10),(-10,10),(-10,10),(-10,10))\n",
    "res = minimize(fun, (9,-6,-9,4,2), method = 'SLSQP', bounds = bounds, constraints = const)\n",
    "\n",
    "print(res)"
   ]
  },
  {
   "cell_type": "markdown",
   "id": "71f003f4",
   "metadata": {},
   "source": [
    "Solutions\n",
    "\n",
    "Testing at different locations yields similar values\n",
    "func = 4.0930233\n",
    "x = [-.7674, .2558, .6280, -.1163, .2558]"
   ]
  }
 ],
 "metadata": {
  "kernelspec": {
   "display_name": "Python 3",
   "language": "python",
   "name": "python3"
  },
  "language_info": {
   "codemirror_mode": {
    "name": "ipython",
    "version": 3
   },
   "file_extension": ".py",
   "mimetype": "text/x-python",
   "name": "python",
   "nbconvert_exporter": "python",
   "pygments_lexer": "ipython3",
   "version": "3.8.8"
  }
 },
 "nbformat": 4,
 "nbformat_minor": 5
}
